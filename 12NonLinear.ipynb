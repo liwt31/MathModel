{
 "cells": [
  {
   "cell_type": "markdown",
   "id": "38a65e8b-8d6c-4f5f-88dd-f3ba0f2b2a31",
   "metadata": {},
   "source": [
    "# Nonlinear Optimization"
   ]
  },
  {
   "cell_type": "code",
   "execution_count": 1,
   "id": "5b51a853-a6b7-402c-ace7-888acb83abcc",
   "metadata": {},
   "outputs": [],
   "source": [
    "import numpy as np\n",
    "from matplotlib import pyplot as plt\n",
    "plt.style.use(\"mm.mplstyle\")"
   ]
  },
  {
   "cell_type": "markdown",
   "id": "0724c890-2307-4640-aa21-cb8a7eaf8fb7",
   "metadata": {},
   "source": [
    "## The Computer Production Problem"
   ]
  },
  {
   "cell_type": "code",
   "execution_count": 2,
   "id": "8d6a62c5-a5c3-4536-bfcd-a81639a519d9",
   "metadata": {},
   "outputs": [],
   "source": [
    "def f(x):\n",
    "    x1, x2 = x\n",
    "    return 1440 * x1 - 0.1 * x1**2 + 1740 * x2 - 0.1 * x2 ** 2 - 0.07 * x1 * x2 - 400000"
   ]
  },
  {
   "cell_type": "code",
   "execution_count": 3,
   "id": "b0d0b9eb-ea17-4493-adb2-44d9d5b74a0f",
   "metadata": {},
   "outputs": [
    {
     "data": {
      "text/plain": [
       "<matplotlib.colorbar.Colorbar at 0x7fbb910b56d0>"
      ]
     },
     "execution_count": 3,
     "metadata": {},
     "output_type": "execute_result"
    },
    {
     "data": {
      "image/png": "[encoded data removed]",
      "text/plain": [
       "<Figure size 400x300 with 2 Axes>"
      ]
     },
     "metadata": {},
     "output_type": "display_data"
    }
   ],
   "source": [
    "x1_array = np.linspace(0, 10000)\n",
    "x2_array = np.linspace(0, 10000)\n",
    "z = f([x1_array.reshape(1, -1), x2_array.reshape(-1, 1)])\n",
    "plt.contourf(x1_array, x2_array, z)\n",
    "plt.xlabel(\"$x_1$\")\n",
    "plt.ylabel(\"$x_2$\")\n",
    "plt.colorbar()"
   ]
  },
  {
   "cell_type": "code",
   "execution_count": 4,
   "id": "1fc3ea81-0aa4-4537-beb9-27b816dfd7e3",
   "metadata": {},
   "outputs": [],
   "source": [
    "from scipy.optimize import minimize"
   ]
  },
  {
   "cell_type": "code",
   "execution_count": 5,
   "id": "e4cf5c95-abf9-4cf8-85f0-76d726631847",
   "metadata": {},
   "outputs": [],
   "source": [
    "def f2(x):\n",
    "    return -f(x)"
   ]
  },
  {
   "cell_type": "code",
   "execution_count": 6,
   "id": "8ea73ffd-2b83-4b09-8fb4-2b3f34205576",
   "metadata": {},
   "outputs": [
    {
     "data": {
      "text/plain": [
       "  message: Optimization terminated successfully.\n",
       "  success: True\n",
       "   status: 0\n",
       "      fun: -9136410.251171505\n",
       "        x: [ 4.735e+03  7.043e+03]\n",
       "      nit: 9\n",
       "      jac: [ 0.000e+00  0.000e+00]\n",
       " hess_inv: [[ 6.403e+00 -4.935e+00]\n",
       "            [-4.935e+00  5.885e+00]]\n",
       "     nfev: 48\n",
       "     njev: 16"
      ]
     },
     "execution_count": 6,
     "metadata": {},
     "output_type": "execute_result"
    }
   ],
   "source": [
    "x0 = [0, 0]\n",
    "res = minimize(f2, x0)\n",
    "res"
   ]
  },
  {
   "cell_type": "code",
   "execution_count": 7,
   "id": "34d3acfe-7bad-4b6c-a769-b01b0d516d00",
   "metadata": {},
   "outputs": [
    {
     "data": {
      "text/plain": [
       "array([4734.96330637, 7042.54639091])"
      ]
     },
     "execution_count": 7,
     "metadata": {},
     "output_type": "execute_result"
    }
   ],
   "source": [
    "res.x"
   ]
  },
  {
   "cell_type": "code",
   "execution_count": 8,
   "id": "3beab303-7880-4dba-82aa-741e1b2ddc16",
   "metadata": {},
   "outputs": [
    {
     "data": {
      "text/plain": [
       "np.float64(9136410.251171505)"
      ]
     },
     "execution_count": 8,
     "metadata": {},
     "output_type": "execute_result"
    }
   ],
   "source": [
    "-res.fun"
   ]
  },
  {
   "cell_type": "markdown",
   "id": "24caabe2-9bdb-400d-8a5c-61f56374cc01",
   "metadata": {},
   "source": [
    "Problems\n",
    "- What is the optimization method used?\n",
    "- Will the initial value affect the optimization outcome?"
   ]
  },
  {
   "cell_type": "markdown",
   "id": "f2e83ff0-bcd1-4d6b-a0ee-997ee211ef4c",
   "metadata": {},
   "source": [
    "## With Analytical Jacobian and Hessian"
   ]
  },
  {
   "cell_type": "code",
   "execution_count": 9,
   "id": "2b1c6d15-b14b-406f-a170-a20851038259",
   "metadata": {},
   "outputs": [],
   "source": [
    "def jac(x):\n",
    "    x1, x2 = x\n",
    "    return np.array([1440 - 0.2 * x1 - 0.07 * x2, 1740 - 0.07 * x1 - 0.2 * x2])\n",
    "\n",
    "def jac2(x):\n",
    "    return -jac(x)"
   ]
  },
  {
   "cell_type": "code",
   "execution_count": 10,
   "id": "7b4ecdf0-e6b7-4bf8-b8bd-33fbe40b9f85",
   "metadata": {},
   "outputs": [],
   "source": [
    "def hess(x):\n",
    "    return np.array([[-0.2, -0.07],\n",
    "           [-0.07, -0.2]])\n",
    "\n",
    "def hess2(x):\n",
    "    return -hess(x)"
   ]
  },
  {
   "cell_type": "code",
   "execution_count": 11,
   "id": "140ca850-a3ff-4e62-a146-9aa958a180ba",
   "metadata": {},
   "outputs": [
    {
     "data": {
      "text/plain": [
       "  message: Optimization terminated successfully.\n",
       "  success: True\n",
       "   status: 0\n",
       "      fun: -9136410.256410252\n",
       "        x: [ 4.735e+03  7.043e+03]\n",
       "      nit: 8\n",
       "      jac: [-5.684e-14  2.274e-13]\n",
       " hess_inv: [[ 5.698e+00 -1.994e+00]\n",
       "            [-1.994e+00  5.698e+00]]\n",
       "     nfev: 14\n",
       "     njev: 14"
      ]
     },
     "execution_count": 11,
     "metadata": {},
     "output_type": "execute_result"
    }
   ],
   "source": [
    "res = minimize(f2, x0, jac=jac2)\n",
    "res"
   ]
  },
  {
   "cell_type": "code",
   "execution_count": 12,
   "id": "1441c385-1426-479e-8ce0-c0eff8b161dd",
   "metadata": {},
   "outputs": [
    {
     "data": {
      "text/plain": [
       " message: Optimization terminated successfully.\n",
       " success: True\n",
       "  status: 0\n",
       "     fun: -9136410.256410254\n",
       "       x: [ 4.735e+03  7.043e+03]\n",
       "     nit: 7\n",
       "     jac: [-1.137e-13 -0.000e+00]\n",
       "    nfev: 7\n",
       "    njev: 7\n",
       "    nhev: 7"
      ]
     },
     "execution_count": 12,
     "metadata": {},
     "output_type": "execute_result"
    }
   ],
   "source": [
    "res = minimize(f2, x0, jac=jac2, hess=hess2, method=\"Newton-CG\")\n",
    "res"
   ]
  },
  {
   "cell_type": "markdown",
   "id": "4eb3e95d-4a69-48ed-8545-840d8bed6cf4",
   "metadata": {},
   "source": [
    "Problems\n",
    "- How does the number of iterations and function evaluations change with the additional information of Jacobian vector and Hessian matrix?\n",
    "- Why specify the method when using the Hessian?\n",
    "- Is there a better way to do this? Can we calculate analytical Jacobian and Hessian automatically?"
   ]
  },
  {
   "cell_type": "markdown",
   "id": "4082ff20-fd2b-4a8b-b2d4-a4c9a372feea",
   "metadata": {},
   "source": [
    "## An Oil Transfer Company"
   ]
  },
  {
   "cell_type": "code",
   "execution_count": 23,
   "id": "ef344103-0163-44fc-9f8e-5de00a932a74",
   "metadata": {},
   "outputs": [],
   "source": [
    "n_types = 2\n",
    "a_list = [9, 4]\n",
    "b_list = [3, 5]\n",
    "h_list = [0.5, 0.2]\n",
    "t_list = [2, 4]\n",
    "T = 24"
   ]
  },
  {
   "cell_type": "code",
   "execution_count": 26,
   "id": "bda3b4fe-9e5f-49a7-98ce-25712a1aba15",
   "metadata": {},
   "outputs": [],
   "source": [
    "def f(variables):\n",
    "    x_list = np.abs(variables[:n_types])\n",
    "    lambda_ = variables[-1]\n",
    "    lag = 0\n",
    "    for i in range(n_types):\n",
    "        x = x_list[i]\n",
    "        a = a_list[i]\n",
    "        b = b_list[i]\n",
    "        h = h_list[i]\n",
    "        t = t_list[i]\n",
    "        lag += a * b / x + h * x / 2 + lambda_ * t * x\n",
    "    lag -= lambda_ * T\n",
    "    return lag"
   ]
  },
  {
   "cell_type": "code",
   "execution_count": 27,
   "id": "2d0fc9ee-6c90-444f-8846-38e540ae09db",
   "metadata": {},
   "outputs": [
    {
     "data": {
      "text/plain": [
       "  message: Desired error not necessarily achieved due to precision loss.\n",
       "  success: False\n",
       "   status: 2\n",
       "      fun: -3188967714.822467\n",
       "        x: [-3.206e-04  1.927e-04  1.329e+08]\n",
       "      nit: 66\n",
       "      jac: [-3.137e+06 -7.149e+06 -3.200e+01]\n",
       " hess_inv: [[ 1.892e-13 -5.083e-14  1.377e-13]\n",
       "            [-5.083e-14  2.143e-13  1.627e-13]\n",
       "            [ 1.377e-13  1.627e-13  3.770e-10]]\n",
       "     nfev: 632\n",
       "     njev: 158"
      ]
     },
     "execution_count": 27,
     "metadata": {},
     "output_type": "execute_result"
    }
   ],
   "source": [
    "minimize(f, [1, 1, 0])"
   ]
  },
  {
   "cell_type": "code",
   "execution_count": 28,
   "id": "3f66149c-ecb4-4bf0-8bfe-dd838676c982",
   "metadata": {},
   "outputs": [],
   "source": [
    "from scipy.optimize import fsolve"
   ]
  },
  {
   "cell_type": "code",
   "execution_count": 29,
   "id": "f63dd752-a53a-4d5c-bf9e-50d1eae5d949",
   "metadata": {},
   "outputs": [],
   "source": [
    "def f_deriv(variables):\n",
    "    x_list = np.abs(variables[:n_types])\n",
    "    lambda_ = variables[-1]\n",
    "    deriv = [0, 0, -T]\n",
    "    for i in range(n_types):\n",
    "        x = x_list[i]\n",
    "        a = a_list[i]\n",
    "        b = b_list[i]\n",
    "        h = h_list[i]\n",
    "        t = t_list[i]\n",
    "        deriv[i] = -a * b / x ** 2 + h / 2 + lambda_ * t\n",
    "        deriv[-1] += t * x\n",
    "    return deriv"
   ]
  },
  {
   "cell_type": "code",
   "execution_count": 30,
   "id": "4c7c7ff7-a105-4b1b-b7a8-b084521d3bc7",
   "metadata": {},
   "outputs": [
    {
     "data": {
      "text/plain": [
       "array([5.0967774, 3.4516113, 0.3946877])"
      ]
     },
     "execution_count": 30,
     "metadata": {},
     "output_type": "execute_result"
    }
   ],
   "source": [
    "res = fsolve(f_deriv, [1, 1, 0])\n",
    "res"
   ]
  },
  {
   "cell_type": "code",
   "execution_count": 31,
   "id": "b21e1ab6-843b-4fc0-a894-c0ce3ee7bbc7",
   "metadata": {},
   "outputs": [
    {
     "data": {
      "text/plain": [
       "np.float64(12.711215716501204)"
      ]
     },
     "execution_count": 31,
     "metadata": {},
     "output_type": "execute_result"
    }
   ],
   "source": [
    "f(res)"
   ]
  },
  {
   "cell_type": "markdown",
   "id": "dac587be-2173-47f2-b241-082be221e74c",
   "metadata": {},
   "source": [
    "Problems\n",
    "- Why does direct numerical optimization not work for constrained optimization with Lagrange multipliers?\n",
    "- How to determine if the solution is the minimum?"
   ]
  }
 ],
 "metadata": {
  "kernelspec": {
   "display_name": "Python 3 (ipykernel)",
   "language": "python",
   "name": "python3"
  },
  "language_info": {
   "codemirror_mode": {
    "name": "ipython",
    "version": 3
   },
   "file_extension": ".py",
   "mimetype": "text/x-python",
   "name": "python",
   "nbconvert_exporter": "python",
   "pygments_lexer": "ipython3",
   "version": "3.9.20"
  }
 },
 "nbformat": 4,
 "nbformat_minor": 5
}
