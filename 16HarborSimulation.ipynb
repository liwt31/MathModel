{
 "cells": [
  {
   "cell_type": "markdown",
   "id": "98a424c9-6a16-44d6-98af-2b2b37520700",
   "metadata": {},
   "source": [
    "# Simulation Modeling of a Harbor"
   ]
  },
  {
   "cell_type": "code",
   "execution_count": 1,
   "id": "dbe3db0a-5824-4294-8fd7-b2a4ebcd6ed0",
   "metadata": {},
   "outputs": [],
   "source": [
    "import numpy as np\n",
    "from matplotlib import pyplot as plt\n",
    "plt.style.use(\"mm.mplstyle\")"
   ]
  },
  {
   "cell_type": "markdown",
   "id": "44b507f4-14ca-4470-a9c2-40292db32ff9",
   "metadata": {},
   "source": [
    "## Uniform Dsitribution"
   ]
  },
  {
   "cell_type": "code",
   "execution_count": 2,
   "id": "06e7b20a-2491-4ca8-af12-2fb698fa5740",
   "metadata": {},
   "outputs": [],
   "source": [
    "n_ships = 100"
   ]
  },
  {
   "cell_type": "code",
   "execution_count": 3,
   "id": "62f7e9e7-6085-4c28-beee-f712b8b8bfe2",
   "metadata": {},
   "outputs": [],
   "source": [
    "arrival_intervals = np.random.rand(n_ships) * 130 + 15\n",
    "unloading_times = np.random.rand(n_ships) * 45 + 45"
   ]
  },
  {
   "cell_type": "code",
   "execution_count": 4,
   "id": "61969723-da9d-4f45-9c3b-8381b8190bd5",
   "metadata": {},
   "outputs": [
    {
     "data": {
      "text/plain": [
       "array([ 95.56914529, 133.48365486,  43.55607666, 136.09608542,\n",
       "       120.75438128,  87.70669825, 112.30772007,  47.33940188,\n",
       "        59.2592687 ,  84.59137009])"
      ]
     },
     "execution_count": 4,
     "metadata": {},
     "output_type": "execute_result"
    }
   ],
   "source": [
    "arrival_intervals[:10]"
   ]
  },
  {
   "cell_type": "code",
   "execution_count": 5,
   "id": "1af33115-ea8e-4203-b0f8-b8e3603d763b",
   "metadata": {},
   "outputs": [
    {
     "data": {
      "text/plain": [
       "array([59.33004827, 80.49015788, 68.36976521, 68.27306908, 79.11980671,\n",
       "       71.97194468, 85.94197541, 73.78602343, 46.11999994, 45.27930905])"
      ]
     },
     "execution_count": 5,
     "metadata": {},
     "output_type": "execute_result"
    }
   ],
   "source": [
    "unloading_times[:10]"
   ]
  },
  {
   "cell_type": "markdown",
   "id": "93d0bcbe-8224-4231-992d-7c73a2165f84",
   "metadata": {},
   "source": [
    "Use a heap to manage the events so that the time is ordered. Check out the [heapq module documentation](https://docs.python.org/3/library/heapq.html).\n",
    "\n",
    "Use a `(time, event_type, ship_id)` tuple to represent events\n",
    "\n",
    "Use `heapq.heappop` to pop the next element and use `heappush` to push a new element."
   ]
  },
  {
   "cell_type": "code",
   "execution_count": 6,
   "id": "8427de55-e512-4162-a3cb-b12add48a30a",
   "metadata": {},
   "outputs": [],
   "source": [
    "import heapq\n",
    "arrival_times = np.cumsum(arrival_intervals)\n",
    "events = [(t, \"arrival\", i) for i, t in enumerate(arrival_times)]\n",
    "heapq.heapify(events)"
   ]
  },
  {
   "cell_type": "markdown",
   "id": "af41a498-5abe-4905-bb07-cc856c5fc7cc",
   "metadata": {},
   "source": [
    "Use `deque` to model the waiting queue. Each element in the queue is a tuple of `(ship_id, arrival_time)`.\n",
    "\n",
    "Use `.append` and `.popleft` to add or remove an item in the queue."
   ]
  },
  {
   "cell_type": "code",
   "execution_count": 7,
   "id": "22b25390-6a1d-4813-9f3a-b2c84a6ae97c",
   "metadata": {},
   "outputs": [],
   "source": [
    "from collections import deque \n",
    "queue = deque()\n",
    "# maximum queue length\n",
    "max_length = 0\n",
    "# staying and waiting times\n",
    "staying_times = [None] * n_ships\n",
    "waiting_times = [None] * n_ships\n",
    "# harbor status\n",
    "harbor_idle = True\n",
    "# when the harbor becomes idle\n",
    "last_idle_time = 0\n",
    "# the total idle time\n",
    "total_idle_time = 0\n",
    "\n",
    "while events:\n",
    "    t, event_type, ship_id = heapq.heappop(events)\n",
    "    if event_type == \"arrival\":\n",
    "        if harbor_idle:\n",
    "            finish_time = t + unloading_times[ship_id]\n",
    "            heapq.heappush(events, (finish_time, \"finish\", ship_id))\n",
    "            total_idle_time += t - last_idle_time\n",
    "            harbor_idle = False\n",
    "            waiting_times[ship_id] = 0\n",
    "            staying_times[ship_id] = unloading_times[ship_id]\n",
    "        else:\n",
    "            queue.append((ship_id, t))\n",
    "            max_length = max(max_length, len(queue))\n",
    "    elif event_type == \"finish\":\n",
    "        if len(queue) == 0:\n",
    "            harbor_idle = True\n",
    "            last_idle_time = t\n",
    "        else:\n",
    "            ship_id, arrival_time = queue.popleft()\n",
    "            finish_time = t + unloading_times[ship_id]\n",
    "            heapq.heappush(events, (finish_time, \"finish\", ship_id))\n",
    "            waiting_times[ship_id] = t - arrival_time\n",
    "            staying_times[ship_id] = t - arrival_time + unloading_times[ship_id]\n",
    "    else:\n",
    "        assert False"
   ]
  },
  {
   "cell_type": "code",
   "execution_count": 8,
   "id": "24796349-4df7-411a-837f-782167a105cf",
   "metadata": {},
   "outputs": [
    {
     "name": "stdout",
     "output_type": "stream",
     "text": [
      "Avg time staying: 101\n",
      "Max time staying: 287\n",
      "Avg time waiting: 34\n",
      "Max time waiting: 203\n",
      "Idle percentage: 18%\n",
      "Max queue length: 4\n"
     ]
    }
   ],
   "source": [
    "print(\"Avg time staying:\", round(np.mean(staying_times)))\n",
    "print(\"Max time staying:\", round(np.max(staying_times)))\n",
    "print(\"Avg time waiting:\", round(np.mean(waiting_times)))\n",
    "print(\"Max time waiting:\", round(np.max(waiting_times)))\n",
    "idle_percent =  total_idle_time / (arrival_times[-1] + unloading_times[-1]) * 100\n",
    "print(f\"Idle percentage: {idle_percent:.2g}%\")\n",
    "print(f\"Max queue length: {max_length}\")"
   ]
  },
  {
   "cell_type": "code",
   "execution_count": 9,
   "id": "f926fe7e-8b48-4103-aa90-93636b1d10b6",
   "metadata": {},
   "outputs": [
    {
     "data": {
      "image/png": "[encoded data removed]",
      "text/plain": [
       "<Figure size 400x300 with 1 Axes>"
      ]
     },
     "metadata": {},
     "output_type": "display_data"
    }
   ],
   "source": [
    "plt.hist(staying_times, bins=20)\n",
    "plt.xlabel(\"Staying Time (min)\")\n",
    "plt.ylabel(\"Instances\")\n",
    "plt.show()"
   ]
  },
  {
   "cell_type": "code",
   "execution_count": 10,
   "id": "4945ecca-861d-4050-8aa2-b28f77b0642c",
   "metadata": {},
   "outputs": [
    {
     "data": {
      "image/png": "[encoded data removed]",
      "text/plain": [
       "<Figure size 400x300 with 1 Axes>"
      ]
     },
     "metadata": {},
     "output_type": "display_data"
    }
   ],
   "source": [
    "plt.hist(waiting_times, bins=20)\n",
    "plt.xlabel(\"Waiting Time (min)\")\n",
    "plt.ylabel(\"Instances\")\n",
    "plt.show()"
   ]
  },
  {
   "cell_type": "markdown",
   "id": "5443aa70-5e97-46c8-8da8-9a5cf59b7621",
   "metadata": {},
   "source": [
    "Note that the first bin of waiting time is unusually high because of the samples with zero intervals are counted together with samples with small interverals."
   ]
  },
  {
   "cell_type": "markdown",
   "id": "a20a6b6f-e898-40c1-8399-ce8b53779ad5",
   "metadata": {},
   "source": [
    "Problems\n",
    "- How would increasing the number of ships affect the result?\n",
    "- How would decreasing the average unloading time affect the result?"
   ]
  },
  {
   "cell_type": "markdown",
   "id": "613a99a9-f7bc-4e40-8f8b-11ff75091f6e",
   "metadata": {},
   "source": [
    "## Other distributions"
   ]
  },
  {
   "cell_type": "code",
   "execution_count": 11,
   "id": "3b1f5d06-7af1-4ced-8a3c-d81e89ba156f",
   "metadata": {},
   "outputs": [],
   "source": [
    "# delta distribution\n",
    "arrival_intervals = 0.5 * np.ones(n_ships) * 130 + 15\n",
    "unloading_times = 0.5 * np.ones(n_ships) * 45 + 45"
   ]
  },
  {
   "cell_type": "code",
   "execution_count": 12,
   "id": "588f6c23-54e7-4841-9651-38180e68b0fb",
   "metadata": {},
   "outputs": [],
   "source": [
    "# geometric distribution\n",
    "arrival_intervals = np.random.geometric(1/80, n_ships)\n",
    "unloading_times = np.random.geometric(1/70, n_ships)"
   ]
  },
  {
   "cell_type": "code",
   "execution_count": 13,
   "id": "453e53dc-f8f5-4591-b9fd-caef3668161d",
   "metadata": {},
   "outputs": [
    {
     "data": {
      "image/png": "[encoded data removed]",
      "text/plain": [
       "<Figure size 400x300 with 1 Axes>"
      ]
     },
     "metadata": {},
     "output_type": "display_data"
    }
   ],
   "source": [
    "n = np.arange(60)\n",
    "rho = 70 / 80\n",
    "plt.plot(70 * n, (1 - rho) * rho ** n, marker=\"x\")\n",
    "plt.xlabel(\"Waiting Time (min)\")\n",
    "plt.ylabel(\"Probability\")\n",
    "plt.show()"
   ]
  },
  {
   "cell_type": "markdown",
   "id": "6eb24ed2-70f7-4936-bd12-7ee30c851b95",
   "metadata": {},
   "source": [
    "Problem\n",
    "- Why is waiting time distribution so different across the three models with the same average rate"
   ]
  }
 ],
 "metadata": {
  "kernelspec": {
   "display_name": "Python 3 (ipykernel)",
   "language": "python",
   "name": "python3"
  },
  "language_info": {
   "codemirror_mode": {
    "name": "ipython",
    "version": 3
   },
   "file_extension": ".py",
   "mimetype": "text/x-python",
   "name": "python",
   "nbconvert_exporter": "python",
   "pygments_lexer": "ipython3",
   "version": "3.9.20"
  }
 },
 "nbformat": 4,
 "nbformat_minor": 5
}
