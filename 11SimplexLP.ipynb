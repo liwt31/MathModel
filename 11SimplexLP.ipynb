{
 "cells": [
  {
   "cell_type": "markdown",
   "id": "38a65e8b-8d6c-4f5f-88dd-f3ba0f2b2a31",
   "metadata": {},
   "source": [
    "# Simplex Method for Linear Programming"
   ]
  },
  {
   "cell_type": "code",
   "execution_count": 1,
   "id": "5b51a853-a6b7-402c-ace7-888acb83abcc",
   "metadata": {},
   "outputs": [],
   "source": [
    "import numpy as np\n",
    "from matplotlib import pyplot as plt\n",
    "plt.style.use(\"mm.mplstyle\")"
   ]
  },
  {
   "cell_type": "markdown",
   "id": "0724c890-2307-4640-aa21-cb8a7eaf8fb7",
   "metadata": {},
   "source": [
    "## The Carpenter's Problem"
   ]
  },
  {
   "cell_type": "code",
   "execution_count": 2,
   "id": "8d6a62c5-a5c3-4536-bfcd-a81639a519d9",
   "metadata": {},
   "outputs": [],
   "source": [
    "# upper bound matrix\n",
    "A_ub = np.array([\n",
    "    [20, 30],\n",
    "    [5, 4],\n",
    "    [-1, 0],\n",
    "    [0, -1],\n",
    "])\n",
    "# upper bound vector\n",
    "b_ub = np.array([690, 120, 0, 0])\n",
    "# coefficients for the objective function\n",
    "c = np.array([25, 30])"
   ]
  },
  {
   "cell_type": "code",
   "execution_count": 3,
   "id": "1fc3ea81-0aa4-4537-beb9-27b816dfd7e3",
   "metadata": {},
   "outputs": [],
   "source": [
    "from scipy.optimize import linprog"
   ]
  },
  {
   "cell_type": "code",
   "execution_count": 4,
   "id": "e4cf5c95-abf9-4cf8-85f0-76d726631847",
   "metadata": {},
   "outputs": [
    {
     "data": {
      "text/plain": [
       "        message: Optimization terminated successfully. (HiGHS Status 7: Optimal)\n",
       "        success: True\n",
       "         status: 0\n",
       "            fun: -750.0\n",
       "              x: [ 1.200e+01  1.500e+01]\n",
       "            nit: 2\n",
       "          lower:  residual: [ 1.200e+01  1.500e+01]\n",
       "                 marginals: [ 0.000e+00  0.000e+00]\n",
       "          upper:  residual: [       inf        inf]\n",
       "                 marginals: [ 0.000e+00  0.000e+00]\n",
       "          eqlin:  residual: []\n",
       "                 marginals: []\n",
       "        ineqlin:  residual: [ 0.000e+00  0.000e+00  1.200e+01  1.500e+01]\n",
       "                 marginals: [-7.143e-01 -2.143e+00 -0.000e+00 -0.000e+00]\n",
       " mip_node_count: 0\n",
       " mip_dual_bound: 0.0\n",
       "        mip_gap: 0.0"
      ]
     },
     "execution_count": 4,
     "metadata": {},
     "output_type": "execute_result"
    }
   ],
   "source": [
    "linprog(-c, A_ub, b_ub)"
   ]
  },
  {
   "cell_type": "markdown",
   "id": "24caabe2-9bdb-400d-8a5c-61f56374cc01",
   "metadata": {},
   "source": [
    "Problems\n",
    "- Why add negative before `c`?\n",
    "- Why is the `bounds` argument not used?\n",
    "- What is the actual method used to solve the problem?"
   ]
  },
  {
   "cell_type": "markdown",
   "id": "c6f09436-da07-4840-8105-632c7f786580",
   "metadata": {},
   "source": [
    "## Foreign Currency Arbitrage Detection"
   ]
  },
  {
   "cell_type": "code",
   "execution_count": 5,
   "id": "4dd5165e-d67a-482f-ae4a-b6bae6197324",
   "metadata": {},
   "outputs": [],
   "source": [
    "y = np.array([\n",
    "    [0, 0.6390, 5.3712, 1.5712, 98.8901],\n",
    "    [1.5648, 0, 8.4304, 2.4590, 154.7733],\n",
    "    [0.1856, 0.1186, 0, 0.2921, 18.4122],\n",
    "    [0.6361, 0.4063, 3.4233, 0, 62.9400],\n",
    "    [0.01011, 0.00645,0.05431,0.01588, 0]\n",
    "])"
   ]
  },
  {
   "cell_type": "code",
   "execution_count": 6,
   "id": "a27b7f3a-5c65-46b8-809c-ee17ef39a23a",
   "metadata": {},
   "outputs": [],
   "source": [
    "c_f_list = []\n",
    "for k in range(5):\n",
    "    c_fk = np.zeros(25).reshape(5, 5)\n",
    "    # \\sum_{i \\neq k} x_ik y_ik\n",
    "    c_fk[:, k] = y[:, k]\n",
    "    # - \\sum_{i \\neq k} x_ki\n",
    "    c_fk[k] = -1\n",
    "    c_fk[k, k] = 0\n",
    "    c_f_list.append(c_fk.ravel())"
   ]
  },
  {
   "cell_type": "code",
   "execution_count": 7,
   "id": "39f7324c-df6e-446b-9a66-81f7835deaee",
   "metadata": {},
   "outputs": [
    {
     "data": {
      "text/plain": [
       "(6, 25)"
      ]
     },
     "execution_count": 7,
     "metadata": {},
     "output_type": "execute_result"
    }
   ],
   "source": [
    "A_ub = np.concatenate([\n",
    "    - np.array(c_f_list), \n",
    "    c_f_list[0].reshape(1, -1)\n",
    "])\n",
    "A_ub.shape"
   ]
  },
  {
   "cell_type": "code",
   "execution_count": 8,
   "id": "60bc3fe6-da03-47b4-a500-b982514a6f4d",
   "metadata": {},
   "outputs": [],
   "source": [
    "b_ub = np.array([0] * 5 + [1])"
   ]
  },
  {
   "cell_type": "code",
   "execution_count": 9,
   "id": "a5d44a3f-6c48-4961-bf86-2f197dcf83d5",
   "metadata": {},
   "outputs": [
    {
     "data": {
      "text/plain": [
       "        message: Optimization terminated successfully. (HiGHS Status 7: Optimal)\n",
       "        success: True\n",
       "         status: 0\n",
       "            fun: -1.0\n",
       "              x: [ 0.000e+00  3.596e+02 ...  0.000e+00  0.000e+00]\n",
       "            nit: 8\n",
       "          lower:  residual: [ 0.000e+00  3.596e+02 ...  0.000e+00\n",
       "                              0.000e+00]\n",
       "                 marginals: [ 0.000e+00  0.000e+00 ...  0.000e+00\n",
       "                              0.000e+00]\n",
       "          upper:  residual: [       inf        inf ...        inf\n",
       "                                    inf]\n",
       "                 marginals: [ 0.000e+00  0.000e+00 ...  0.000e+00\n",
       "                              0.000e+00]\n",
       "          eqlin:  residual: []\n",
       "                 marginals: []\n",
       "        ineqlin:  residual: [ 1.000e+00  0.000e+00  0.000e+00  0.000e+00\n",
       "                              0.000e+00  0.000e+00]\n",
       "                 marginals: [-0.000e+00 -0.000e+00 -0.000e+00 -0.000e+00\n",
       "                             -0.000e+00 -1.000e+00]\n",
       " mip_node_count: 0\n",
       " mip_dual_bound: 0.0\n",
       "        mip_gap: 0.0"
      ]
     },
     "execution_count": 9,
     "metadata": {},
     "output_type": "execute_result"
    }
   ],
   "source": [
    "res = linprog(-c_f_list[0], A_ub, b_ub)\n",
    "res"
   ]
  },
  {
   "cell_type": "code",
   "execution_count": 10,
   "id": "366f7873-ec1e-4eb2-a6fb-79183ab8a852",
   "metadata": {},
   "outputs": [
    {
     "data": {
      "text/plain": [
       "<Token var=<ContextVar name='format_options' default={'edgeitems': 3, 'threshold': 1000, 'floatmode': 'maxprec', 'precision': 8, 'suppress': False, 'linewidth': 75, 'nanstr': 'nan', 'infstr': 'inf', 'sign': '-', 'formatter': None, 'legacy': 9223372036854775807, 'override_repr': None} at 0x7f72ec3b4630> at 0x7f72531de980>"
      ]
     },
     "execution_count": 10,
     "metadata": {},
     "output_type": "execute_result"
    }
   ],
   "source": [
    "np.set_printoptions(linewidth=256)"
   ]
  },
  {
   "cell_type": "code",
   "execution_count": 11,
   "id": "b11ae6e9-23ac-4023-898e-f3006472e036",
   "metadata": {},
   "outputs": [
    {
     "data": {
      "text/plain": [
       "array([[    0.        ,   359.64796889,     0.        ,     0.        ,     0.        ],\n",
       "       [    0.        ,     0.        ,   229.81505212,     0.        ,     0.        ],\n",
       "       [    0.        ,     0.        ,     0.        ,     0.        ,  1937.43281541],\n",
       "       [    0.        ,     0.        ,    -0.        ,     0.        ,     0.        ],\n",
       "       [35672.40048386,     0.        ,     0.        ,     0.        ,     0.        ]])"
      ]
     },
     "execution_count": 11,
     "metadata": {},
     "output_type": "execute_result"
    }
   ],
   "source": [
    "res.x.reshape(5, 5)"
   ]
  },
  {
   "cell_type": "code",
   "execution_count": 12,
   "id": "0a1f740b-4031-404a-9be8-b1680bc99e6c",
   "metadata": {},
   "outputs": [
    {
     "data": {
      "text/plain": [
       "360.6480000864963"
      ]
     },
     "execution_count": 12,
     "metadata": {},
     "output_type": "execute_result"
    }
   ],
   "source": [
    "# the net dollar after transactions\n",
    "359.648 * 0.6390 * 8.4304 * 18.4122 * 0.01011"
   ]
  },
  {
   "cell_type": "code",
   "execution_count": 13,
   "id": "e6668fd6-5190-4584-b89a-a6842a32f82e",
   "metadata": {},
   "outputs": [
    {
     "data": {
      "text/plain": [
       "(6, 25)"
      ]
     },
     "execution_count": 13,
     "metadata": {},
     "output_type": "execute_result"
    }
   ],
   "source": [
    "A_ub = np.concatenate([\n",
    "    - np.array(c_f_list), \n",
    "    c_f_list[0].reshape(1, -1)\n",
    "])\n",
    "A_ub.shape"
   ]
  }
 ],
 "metadata": {
  "kernelspec": {
   "display_name": "Python 3 (ipykernel)",
   "language": "python",
   "name": "python3"
  },
  "language_info": {
   "codemirror_mode": {
    "name": "ipython",
    "version": 3
   },
   "file_extension": ".py",
   "mimetype": "text/x-python",
   "name": "python",
   "nbconvert_exporter": "python",
   "pygments_lexer": "ipython3",
   "version": "3.10.14"
  }
 },
 "nbformat": 4,
 "nbformat_minor": 5
}
