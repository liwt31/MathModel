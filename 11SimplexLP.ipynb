{
 "cells": [
  {
   "cell_type": "markdown",
   "id": "38a65e8b-8d6c-4f5f-88dd-f3ba0f2b2a31",
   "metadata": {},
   "source": [
    "# Simplex Method for Linear Programming"
   ]
  },
  {
   "cell_type": "code",
   "execution_count": 1,
   "id": "5b51a853-a6b7-402c-ace7-888acb83abcc",
   "metadata": {},
   "outputs": [],
   "source": [
    "import numpy as np\n",
    "from matplotlib import pyplot as plt\n",
    "plt.style.use(\"mm.mplstyle\")"
   ]
  },
  {
   "cell_type": "code",
   "execution_count": 2,
   "id": "8d6a62c5-a5c3-4536-bfcd-a81639a519d9",
   "metadata": {},
   "outputs": [],
   "source": [
    "# upper bound matrix\n",
    "A_ub = np.array([\n",
    "    [20, 30],\n",
    "    [5, 4],\n",
    "    [-1, 0],\n",
    "    [0, -1],\n",
    "])\n",
    "# upper bound vector\n",
    "b_ub = np.array([690, 120, 0, 0])\n",
    "# coefficients for the objective function\n",
    "c = np.array([25, 30])"
   ]
  },
  {
   "cell_type": "code",
   "execution_count": 3,
   "id": "1fc3ea81-0aa4-4537-beb9-27b816dfd7e3",
   "metadata": {},
   "outputs": [],
   "source": [
    "from scipy.optimize import linprog"
   ]
  },
  {
   "cell_type": "code",
   "execution_count": 4,
   "id": "e4cf5c95-abf9-4cf8-85f0-76d726631847",
   "metadata": {},
   "outputs": [
    {
     "data": {
      "text/plain": [
       "        message: Optimization terminated successfully. (HiGHS Status 7: Optimal)\n",
       "        success: True\n",
       "         status: 0\n",
       "            fun: -750.0\n",
       "              x: [ 1.200e+01  1.500e+01]\n",
       "            nit: 2\n",
       "          lower:  residual: [ 1.200e+01  1.500e+01]\n",
       "                 marginals: [ 0.000e+00  0.000e+00]\n",
       "          upper:  residual: [       inf        inf]\n",
       "                 marginals: [ 0.000e+00  0.000e+00]\n",
       "          eqlin:  residual: []\n",
       "                 marginals: []\n",
       "        ineqlin:  residual: [ 0.000e+00  0.000e+00  1.200e+01  1.500e+01]\n",
       "                 marginals: [-7.143e-01 -2.143e+00 -0.000e+00 -0.000e+00]\n",
       " mip_node_count: 0\n",
       " mip_dual_bound: 0.0\n",
       "        mip_gap: 0.0"
      ]
     },
     "execution_count": 4,
     "metadata": {},
     "output_type": "execute_result"
    }
   ],
   "source": [
    "linprog(-c, A_ub, b_ub)"
   ]
  },
  {
   "cell_type": "markdown",
   "id": "24caabe2-9bdb-400d-8a5c-61f56374cc01",
   "metadata": {},
   "source": [
    "Problems\n",
    "- Why add negative before `c`?\n",
    "- Why is the `bounds` argument not used?\n",
    "- What is the actual method used to solve the problem?"
   ]
  }
 ],
 "metadata": {
  "kernelspec": {
   "display_name": "Python 3 (ipykernel)",
   "language": "python",
   "name": "python3"
  },
  "language_info": {
   "codemirror_mode": {
    "name": "ipython",
    "version": 3
   },
   "file_extension": ".py",
   "mimetype": "text/x-python",
   "name": "python",
   "nbconvert_exporter": "python",
   "pygments_lexer": "ipython3",
   "version": "3.10.14"
  }
 },
 "nbformat": 4,
 "nbformat_minor": 5
}
