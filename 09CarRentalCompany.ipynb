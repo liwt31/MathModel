{
 "cells": [
  {
   "cell_type": "markdown",
   "id": "0d4edf4e-8453-43d2-9242-9d1f6efb46d3",
   "metadata": {},
   "source": [
    "# Car Rental Company"
   ]
  },
  {
   "cell_type": "code",
   "execution_count": 1,
   "id": "2ad5af53-095e-4e97-a338-c4e3adc6a329",
   "metadata": {},
   "outputs": [],
   "source": [
    "import numpy as np\n",
    "from matplotlib import pyplot as plt\n",
    "import mpl_config"
   ]
  },
  {
   "cell_type": "code",
   "execution_count": 2,
   "id": "0933a6f0-7c0a-4a69-ab1d-8b2d187171fb",
   "metadata": {},
   "outputs": [],
   "source": [
    "# initial probability in Orlando\n",
    "po_0 = 1\n",
    "# initial probability in Tampa\n",
    "pt_0 = 0"
   ]
  },
  {
   "cell_type": "markdown",
   "id": "71ce0875-bd39-4b1a-8760-702589a02573",
   "metadata": {},
   "source": [
    "## Brute-force modeling"
   ]
  },
  {
   "cell_type": "code",
   "execution_count": 3,
   "id": "1277f914-b7cd-4bd5-9897-12f7744bdfa9",
   "metadata": {},
   "outputs": [
    {
     "data": {
      "image/png": "[encoded data removed]",
      "text/plain": [
       "<Figure size 400x300 with 1 Axes>"
      ]
     },
     "metadata": {},
     "output_type": "display_data"
    }
   ],
   "source": [
    "po = po_0\n",
    "pt = pt_0\n",
    "po_list = [po]\n",
    "pt_list = [pt]\n",
    "for i in range(16):\n",
    "    po = 0.6 * po_list[-1] + 0.3 * pt_list[-1]\n",
    "    pt = 0.4 * po_list[-1] + 0.7 * pt_list[-1]\n",
    "    po_list.append(po)\n",
    "    pt_list.append(pt)\n",
    "\n",
    "plt.plot(po_list, label=\"Orlando\", marker=\"o\")\n",
    "plt.plot(pt_list, label=\"Tampa\", marker=\"o\", linestyle=\"--\")\n",
    "plt.xlabel(\"$x$\")\n",
    "plt.ylabel(\"$y$\")\n",
    "plt.legend()\n",
    "plt.show()"
   ]
  },
  {
   "cell_type": "markdown",
   "id": "e00a4cc1-45e5-42e4-8650-940047711d08",
   "metadata": {},
   "source": [
    "Problems\n",
    "- Why use `po_list[-1]` and `pt_list[-1]` intead of `po` and `pt` in the loop?\n",
    "- What is the difference with stochastic population growth and solving IVP?\n",
    "- Will different initial condition affect the final converged probability?"
   ]
  },
  {
   "cell_type": "markdown",
   "id": "2b7db8df-6f56-4dd4-aca1-d027ae567c24",
   "metadata": {},
   "source": [
    "## By matrix multiplication"
   ]
  },
  {
   "cell_type": "code",
   "execution_count": 4,
   "id": "37ea4c9b-c0f9-4a8b-ad50-849fb249186b",
   "metadata": {},
   "outputs": [
    {
     "data": {
      "text/plain": [
       "array([[0.6, 0.4],\n",
       "       [0.3, 0.7]])"
      ]
     },
     "execution_count": 4,
     "metadata": {},
     "output_type": "execute_result"
    }
   ],
   "source": [
    "# the transition matrix\n",
    "# present state is row and future state is column\n",
    "T = np.array([[0.6, 0.4], [0.3, 0.7]])\n",
    "T"
   ]
  },
  {
   "cell_type": "code",
   "execution_count": 5,
   "id": "a58ec08d-1c84-4903-85f4-cf740d66dad4",
   "metadata": {},
   "outputs": [],
   "source": [
    "# The initial condition\n",
    "v0 = np.array([1, 0])"
   ]
  },
  {
   "cell_type": "code",
   "execution_count": 6,
   "id": "698c4f05-11a3-43b6-bc98-ddbcccb4b2e6",
   "metadata": {},
   "outputs": [
    {
     "data": {
      "image/png": "[encoded data removed]",
      "text/plain": [
       "<Figure size 400x300 with 1 Axes>"
      ]
     },
     "metadata": {},
     "output_type": "display_data"
    }
   ],
   "source": [
    "v = v0\n",
    "v_list = [v]\n",
    "for i in range(16):\n",
    "    v =  v @ T\n",
    "    v_list.append(v)\n",
    "\n",
    "v_list = np.array(v_list)\n",
    "plt.plot(v_list[:, 0], label=\"Orlando\", marker=\"o\")\n",
    "plt.plot(v_list[:, 1], label=\"Tampa\", marker=\"o\", linestyle=\"--\")\n",
    "plt.xlabel(\"$x$\")\n",
    "plt.ylabel(\"$y$\")\n",
    "plt.legend()\n",
    "plt.show()"
   ]
  },
  {
   "cell_type": "markdown",
   "id": "b0a9a9ae-4455-4aae-8117-83f073bfe3cd",
   "metadata": {},
   "source": [
    "Problems\n",
    "- Why multiply $v$ to the left of $T$?\n",
    "- What is the computational complexity? Is it higher, lower, or the same with the brute-force method?"
   ]
  },
  {
   "cell_type": "markdown",
   "id": "a4355dc2-7d63-460b-a4ee-70774d45d59b",
   "metadata": {},
   "source": [
    "# By matrix decomposition"
   ]
  },
  {
   "cell_type": "code",
   "execution_count": 7,
   "id": "46f800a7-2676-42ed-a114-fbd7cbb318a2",
   "metadata": {},
   "outputs": [],
   "source": [
    "lam, u = np.linalg.eig(T)"
   ]
  },
  {
   "cell_type": "code",
   "execution_count": 8,
   "id": "635647bf-8c9e-4e39-84ae-f47865c104dc",
   "metadata": {},
   "outputs": [
    {
     "data": {
      "text/plain": [
       "array([0.3, 1. ])"
      ]
     },
     "execution_count": 8,
     "metadata": {},
     "output_type": "execute_result"
    }
   ],
   "source": [
    "lam"
   ]
  },
  {
   "cell_type": "code",
   "execution_count": 9,
   "id": "353e2783-3389-45bf-a5a3-b5d3eb33d183",
   "metadata": {},
   "outputs": [
    {
     "data": {
      "text/plain": [
       "array([[-0.8       , -0.70710678],\n",
       "       [ 0.6       , -0.70710678]])"
      ]
     },
     "execution_count": 9,
     "metadata": {},
     "output_type": "execute_result"
    }
   ],
   "source": [
    "u"
   ]
  },
  {
   "cell_type": "code",
   "execution_count": 10,
   "id": "8bddd98d-6cd1-4523-91c2-9157a64175ba",
   "metadata": {},
   "outputs": [
    {
     "data": {
      "text/plain": [
       "array([[0.6, 0.4],\n",
       "       [0.3, 0.7]])"
      ]
     },
     "execution_count": 10,
     "metadata": {},
     "output_type": "execute_result"
    }
   ],
   "source": [
    "# the same as T\n",
    "u @ np.diag(lam) @ np.linalg.inv(u)"
   ]
  },
  {
   "cell_type": "code",
   "execution_count": 11,
   "id": "f7996d99-09dd-47f3-a273-a30906dd1456",
   "metadata": {},
   "outputs": [
    {
     "data": {
      "image/png": "[encoded data removed]",
      "text/plain": [
       "<Figure size 400x300 with 1 Axes>"
      ]
     },
     "metadata": {},
     "output_type": "display_data"
    }
   ],
   "source": [
    "v_list = [v0]\n",
    "for i in range(16):\n",
    "    v = v0 @ u @ np.diag(lam) ** (i + 1) @ np.linalg.inv(u)\n",
    "    v_list.append(v)\n",
    "\n",
    "v_list = np.array(v_list)\n",
    "plt.plot(v_list[:, 0], label=\"Orlando\", marker=\"o\")\n",
    "plt.plot(v_list[:, 1], label=\"Tampa\", marker=\"o\", linestyle=\"--\")\n",
    "plt.xlabel(\"$x$\")\n",
    "plt.ylabel(\"$y$\")\n",
    "plt.legend()\n",
    "plt.show()"
   ]
  },
  {
   "cell_type": "markdown",
   "id": "090214ac-06a0-4500-840e-99faed658343",
   "metadata": {},
   "source": [
    "Problems\n",
    "- What is the computational complexity? Which is the most efficient method when only the long time limit is desired?\n",
    "- Which method do you like most (what are the pros and cons)?"
   ]
  }
 ],
 "metadata": {
  "kernelspec": {
   "display_name": "Python 3 (ipykernel)",
   "language": "python",
   "name": "python3"
  },
  "language_info": {
   "codemirror_mode": {
    "name": "ipython",
    "version": 3
   },
   "file_extension": ".py",
   "mimetype": "text/x-python",
   "name": "python",
   "nbconvert_exporter": "python",
   "pygments_lexer": "ipython3",
   "version": "3.9.19"
  }
 },
 "nbformat": 4,
 "nbformat_minor": 5
}
