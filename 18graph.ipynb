{
 "cells": [
  {
   "cell_type": "code",
   "execution_count": 1,
   "id": "220c6aa4-533b-4ab3-aa32-37e8a4bb1a8c",
   "metadata": {},
   "outputs": [],
   "source": [
    "import numpy as np\n",
    "from matplotlib import pyplot as plt\n",
    "plt.style.use(\"mm.mplstyle\")"
   ]
  },
  {
   "cell_type": "code",
   "execution_count": 2,
   "id": "4cd9ffa8-92a5-4696-8a47-7577e5e27cb9",
   "metadata": {},
   "outputs": [],
   "source": [
    "from scipy.sparse import csgraph"
   ]
  },
  {
   "cell_type": "markdown",
   "id": "01374517-a27e-46cd-8991-b1ad794e990b",
   "metadata": {},
   "source": [
    "## Finding the Shortest Path\n",
    "Firstly we need to transform a graph from a math language to computer science language"
   ]
  },
  {
   "cell_type": "code",
   "execution_count": 3,
   "id": "80d0ffd8-a27c-4d20-8885-df43f217e01f",
   "metadata": {},
   "outputs": [],
   "source": [
    "# Take the graph on P6 of the slides as an example\n",
    "# vertices: u, v, w, x, y, z\n",
    "# zero means no edge\n",
    "# non zero means the weight (distance) of edge\n",
    "# diagonal elements are set to zero\n",
    "#         u, v, w, x, y, z\n",
    "graph = [[0, 1, 7, 6, 0, 0],  # u\n",
    "         [1, 0, 2, 0, 0, 0],  # v\n",
    "         [7, 2, 0, 8, 3, 0],  # w\n",
    "         [6, 0, 8, 0, 5, 6],  # x\n",
    "         [0, 0, 3, 5, 0, 4],  # y\n",
    "         [0, 0, 0, 6, 4, 0]]  # z\n",
    "graph = np.array(graph)"
   ]
  },
  {
   "cell_type": "markdown",
   "id": "ef744cf6-5f8a-4272-9c81-49b96ef93782",
   "metadata": {},
   "source": [
    "The matrix is in general very sparse. So the module `csgraph` is included in `scipy.sparse`"
   ]
  },
  {
   "cell_type": "code",
   "execution_count": 4,
   "id": "056844cf-a4d5-4c6b-909c-5ad606975fc5",
   "metadata": {},
   "outputs": [],
   "source": [
    "# The graph matrix is diagonal\n",
    "np.testing.assert_allclose(graph, graph.T)"
   ]
  },
  {
   "cell_type": "markdown",
   "id": "982f96c0-b9d5-4764-874f-bc917859c372",
   "metadata": {},
   "source": [
    "The shortest path problem is then solved using the dijkstra's algorithm"
   ]
  },
  {
   "cell_type": "code",
   "execution_count": 5,
   "id": "1d122a18-0942-49a6-b31c-e31c52ee6013",
   "metadata": {},
   "outputs": [
    {
     "data": {
      "text/plain": [
       "array([[ 0.,  1.,  3.,  6.,  6., 10.],\n",
       "       [ 1.,  0.,  2.,  7.,  5.,  9.],\n",
       "       [ 3.,  2.,  0.,  8.,  3.,  7.],\n",
       "       [ 6.,  7.,  8.,  0.,  5.,  6.],\n",
       "       [ 6.,  5.,  3.,  5.,  0.,  4.],\n",
       "       [10.,  9.,  7.,  6.,  4.,  0.]])"
      ]
     },
     "execution_count": 5,
     "metadata": {},
     "output_type": "execute_result"
    }
   ],
   "source": [
    "dist_matrix = csgraph.dijkstra(graph)\n",
    "dist_matrix"
   ]
  },
  {
   "cell_type": "markdown",
   "id": "aadec303-51bb-4c33-ab95-912df817b68f",
   "metadata": {},
   "source": [
    "The result is a matrix. The inter-vertex distance can be also considered as a graph (matrix). The graph is dense. All vertices are connected.\n",
    "\n",
    "The distance between any two vertices are be readily read out. \n",
    "For example, The shortest distance from $u$ to $y$ is then"
   ]
  },
  {
   "cell_type": "code",
   "execution_count": 6,
   "id": "554451ee-99db-4e20-b63f-149fb800ff77",
   "metadata": {},
   "outputs": [
    {
     "data": {
      "text/plain": [
       "6.0"
      ]
     },
     "execution_count": 6,
     "metadata": {},
     "output_type": "execute_result"
    }
   ],
   "source": [
    "u = \"uvwxyz\".index(\"u\")\n",
    "y = \"uvwxyz\".index(\"y\")\n",
    "dist_matrix[u][y]"
   ]
  },
  {
   "cell_type": "markdown",
   "id": "bbabcb51-0a32-42e5-bf98-b46d2b7ee120",
   "metadata": {},
   "source": [
    "To find out the path, in addition to the distance, set `return_predecessors=True` to find out the predecessor for each vertex."
   ]
  },
  {
   "cell_type": "code",
   "execution_count": 7,
   "id": "d880dd69-22db-4152-9fc8-2ad8ccb1c155",
   "metadata": {},
   "outputs": [
    {
     "data": {
      "text/plain": [
       "array([[-9999,     0,     1,     0,     2,     4],\n",
       "       [    1, -9999,     1,     0,     2,     4],\n",
       "       [    1,     2, -9999,     2,     2,     4],\n",
       "       [    3,     0,     3, -9999,     3,     3],\n",
       "       [    1,     2,     4,     4, -9999,     4],\n",
       "       [    1,     2,     4,     5,     5, -9999]], dtype=int32)"
      ]
     },
     "execution_count": 7,
     "metadata": {},
     "output_type": "execute_result"
    }
   ],
   "source": [
    "dist_matrix, predecessor_matrix = csgraph.dijkstra(graph, return_predecessors=True)\n",
    "predecessor_matrix"
   ]
  },
  {
   "cell_type": "markdown",
   "id": "73642fff-5470-4208-8f77-c314463c4439",
   "metadata": {},
   "source": [
    "The matrix shows the predecessor of each node for a particular shortest path. For example, to find out the path connecting $u$ to $y$."
   ]
  },
  {
   "cell_type": "code",
   "execution_count": 8,
   "id": "e9f1304a-aa8d-49d6-a73d-b31e388dc833",
   "metadata": {},
   "outputs": [
    {
     "data": {
      "text/plain": [
       "[0, 1, 2, 4]"
      ]
     },
     "execution_count": 8,
     "metadata": {},
     "output_type": "execute_result"
    }
   ],
   "source": [
    "path = [y]\n",
    "while True:\n",
    "    predecessor = predecessor_matrix[u][path[0]]\n",
    "    path = [predecessor] + path\n",
    "    if predecessor == u:\n",
    "        break\n",
    "path"
   ]
  },
  {
   "cell_type": "markdown",
   "id": "bac8a31c-9706-43bf-b1a2-a822bd41f0df",
   "metadata": {},
   "source": [
    "Problems\n",
    "- How to find out the distance and shortest path between $u$ and $z$?\n",
    "- How to find out the distance and shortest path between $v$ and $z$?"
   ]
  },
  {
   "cell_type": "markdown",
   "id": "40c6ecdc-9c9e-4f6c-b8b7-0994aded5ce9",
   "metadata": {},
   "source": [
    "## Finding the Maximum Flow"
   ]
  },
  {
   "cell_type": "code",
   "execution_count": 9,
   "id": "33f0f94c-47e9-4c05-b546-6ee83184a9df",
   "metadata": {},
   "outputs": [],
   "source": [
    "# Take the graph on P43 of the slides as an example\n",
    "# use only the upper diagonal elements to indicate the edge direction\n",
    "#         s, 2,  3,  4, 5, t\n",
    "graph = [[0, 10, 10, 0, 0,  0],  # s\n",
    "         [0,  0, 2,  4, 8,  0],  # 2\n",
    "         [0,  0, 0,  0, 9,  0],  # 3\n",
    "         [0,  0, 0,  0, 0, 10],  # 4\n",
    "         [0,  0, 0,  6, 0, 10],  # 5\n",
    "         [0,  0, 0,  0, 0, 0]]  # t\n",
    "graph = np.array(graph)"
   ]
  },
  {
   "cell_type": "code",
   "execution_count": 10,
   "id": "1a947139-c648-4ae1-8544-3232677631dc",
   "metadata": {},
   "outputs": [],
   "source": [
    "from scipy.sparse import csr_matrix"
   ]
  },
  {
   "cell_type": "code",
   "execution_count": 11,
   "id": "fc6a33f8-f319-47d3-bbf8-dd269860a62f",
   "metadata": {},
   "outputs": [
    {
     "data": {
      "text/plain": [
       "<6x6 sparse matrix of type '<class 'numpy.int64'>'\n",
       "\twith 9 stored elements in Compressed Sparse Row format>"
      ]
     },
     "execution_count": 11,
     "metadata": {},
     "output_type": "execute_result"
    }
   ],
   "source": [
    "graph = csr_matrix(graph)\n",
    "graph"
   ]
  },
  {
   "cell_type": "code",
   "execution_count": 12,
   "id": "28315024-9657-4a1d-bcf8-07189394562e",
   "metadata": {},
   "outputs": [
    {
     "data": {
      "text/plain": [
       "MaximumFlowResult with value of 19"
      ]
     },
     "execution_count": 12,
     "metadata": {},
     "output_type": "execute_result"
    }
   ],
   "source": [
    "csgraph.maximum_flow(graph, \"s2345t\".index(\"s\"), \"s2345t\".index(\"t\"))"
   ]
  },
  {
   "cell_type": "markdown",
   "id": "0f89c6ca-ad1b-4277-96f4-e90e501bcd44",
   "metadata": {},
   "source": [
    "Problems\n",
    "- What would happen if we take the transpose of the `graph` matrix? What does it mean and what will be the maximum flow?"
   ]
  },
  {
   "cell_type": "code",
   "execution_count": null,
   "id": "82f37c68-f23a-4bfb-9485-ad6469005d13",
   "metadata": {},
   "outputs": [],
   "source": []
  }
 ],
 "metadata": {
  "kernelspec": {
   "display_name": "tcc",
   "language": "python",
   "name": "tcc"
  },
  "language_info": {
   "codemirror_mode": {
    "name": "ipython",
    "version": 3
   },
   "file_extension": ".py",
   "mimetype": "text/x-python",
   "name": "python",
   "nbconvert_exporter": "python",
   "pygments_lexer": "ipython3",
   "version": "3.9.20"
  }
 },
 "nbformat": 4,
 "nbformat_minor": 5
}
