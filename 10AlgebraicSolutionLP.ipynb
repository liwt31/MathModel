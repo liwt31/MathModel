{
 "cells": [
  {
   "cell_type": "markdown",
   "id": "81c1e615-9813-4707-a1f6-2536574a592c",
   "metadata": {},
   "source": [
    "# Algebraic Solution for Linear Programming"
   ]
  },
  {
   "cell_type": "code",
   "execution_count": 1,
   "id": "f58e04b7-d572-4cf8-81b7-d5863c320920",
   "metadata": {},
   "outputs": [],
   "source": [
    "import numpy as np\n",
    "from matplotlib import pyplot as plt\n",
    "import mpl_config"
   ]
  },
  {
   "cell_type": "markdown",
   "id": "330da966-9da6-440e-b821-2bd046b0fa63",
   "metadata": {},
   "source": [
    "$$\n",
    "A_{ub}x\\le b_{ub}\n",
    "$$"
   ]
  },
  {
   "cell_type": "code",
   "execution_count": 2,
   "id": "b4c41d95-e210-41d8-9944-a8943badfb05",
   "metadata": {},
   "outputs": [],
   "source": [
    "# upper bound matrix\n",
    "A_ub = np.array([\n",
    "    [20, 30],\n",
    "    [5, 4],\n",
    "    [-1, 0],\n",
    "    [0, -1],\n",
    "])\n",
    "# upper bound vector\n",
    "b_ub = np.array([690, 120, 0, 0])\n",
    "# coefficients for the objective function\n",
    "c = np.array([25, 30])"
   ]
  },
  {
   "cell_type": "markdown",
   "id": "54cef1d8-3245-4722-a030-a89e16bb690a",
   "metadata": {},
   "source": [
    "## Find out all intersection points"
   ]
  },
  {
   "cell_type": "code",
   "execution_count": 3,
   "id": "6588658d-5da4-48c6-a6ad-3ace51402a3e",
   "metadata": {},
   "outputs": [],
   "source": [
    "from itertools import combinations\n",
    "import scipy"
   ]
  },
  {
   "cell_type": "code",
   "execution_count": 4,
   "id": "57a28092-3f4c-49a7-8760-a66fd66d4691",
   "metadata": {},
   "outputs": [],
   "source": [
    "intersections = []\n",
    "for i, j in combinations(range(len(A_ub)), 2):\n",
    "    A = A_ub[[i, j]]\n",
    "    b = b_ub[[i, j]]\n",
    "    intersections.append(scipy.linalg.solve(A, b))\n",
    "intersections = np.array(intersections)"
   ]
  },
  {
   "cell_type": "code",
   "execution_count": 5,
   "id": "dfd17fbe-9e6f-4d3d-9ae2-5123183a1daa",
   "metadata": {},
   "outputs": [
    {
     "data": {
      "text/plain": [
       "<matplotlib.collections.PathCollection at 0x7f42b74dbf70>"
      ]
     },
     "execution_count": 5,
     "metadata": {},
     "output_type": "execute_result"
    },
    {
     "data": {
      "image/png": "[encoded data removed]",
      "text/plain": [
       "<Figure size 400x300 with 1 Axes>"
      ]
     },
     "metadata": {},
     "output_type": "display_data"
    }
   ],
   "source": [
    "plt.scatter(intersections[:, 0], intersections[:, 1])"
   ]
  },
  {
   "cell_type": "markdown",
   "id": "ef52790c-9035-4363-9cc7-cc81b35b0fe1",
   "metadata": {},
   "source": [
    "Problems\n",
    "- How many systems of equations do we have to solve? What is the size of the systems of equations? \n",
    "- What if there are linear dependencies in the constraints?"
   ]
  },
  {
   "cell_type": "markdown",
   "id": "bc1ace72-70ca-465d-91b4-50ad03060672",
   "metadata": {},
   "source": [
    "## Determine if the intersection points are feasible"
   ]
  },
  {
   "cell_type": "code",
   "execution_count": 6,
   "id": "7f43494d-c964-4857-bee3-ea6222edbf1a",
   "metadata": {},
   "outputs": [
    {
     "data": {
      "text/plain": [
       "array([[ True,  True,  True, False,  True,  True],\n",
       "       [ True,  True, False,  True,  True,  True],\n",
       "       [ True,  True,  True,  True,  True,  True],\n",
       "       [ True,  True,  True,  True,  True,  True]])"
      ]
     },
     "execution_count": 6,
     "metadata": {},
     "output_type": "execute_result"
    }
   ],
   "source": [
    "satisfied = (A_ub @ intersections.T) <= b_ub.reshape(-1, 1)\n",
    "# row: contrains. col: intersection points\n",
    "satisfied"
   ]
  },
  {
   "cell_type": "code",
   "execution_count": 7,
   "id": "9a3250f5-9f0c-48df-8583-fbb95e6ca02c",
   "metadata": {},
   "outputs": [
    {
     "data": {
      "text/plain": [
       "array([ True,  True, False, False,  True,  True])"
      ]
     },
     "execution_count": 7,
     "metadata": {},
     "output_type": "execute_result"
    }
   ],
   "source": [
    "is_feasible = np.all(satisfied, axis=0)\n",
    "is_feasible"
   ]
  },
  {
   "cell_type": "markdown",
   "id": "2c017c85-d696-4c0c-a427-3f6854941276",
   "metadata": {},
   "source": [
    "Problems\n",
    "- Do you like the vectorized implementation? What are the pros and cons?"
   ]
  },
  {
   "cell_type": "markdown",
   "id": "29cb3a21-4376-4028-8678-bb70b51383fd",
   "metadata": {},
   "source": [
    "## Evaluate the intersection points"
   ]
  },
  {
   "cell_type": "code",
   "execution_count": 8,
   "id": "da34772b-a0e9-4fe1-93fc-edcbeaff899a",
   "metadata": {},
   "outputs": [
    {
     "name": "stdout",
     "output_type": "stream",
     "text": [
      "[12. 15.] 750.0\n",
      "[ 0. 23.] 690.0\n",
      "[24. -0.] 600.0\n",
      "[-0. -0.] 0.0\n"
     ]
    }
   ],
   "source": [
    "opt_xy = None\n",
    "opt_obj = 0\n",
    "for i, x in enumerate(intersections):\n",
    "    if not is_feasible[i]:\n",
    "        continue\n",
    "    obj = c @ x\n",
    "    print(x, obj)\n",
    "    if obj > opt_obj:\n",
    "        opt_obj = obj\n",
    "        opt_xy = x"
   ]
  },
  {
   "cell_type": "code",
   "execution_count": 9,
   "id": "5854442e-04b8-431f-9bb7-694a153dd7d7",
   "metadata": {},
   "outputs": [
    {
     "data": {
      "text/plain": [
       "(array([12., 15.]), np.float64(750.0))"
      ]
     },
     "execution_count": 9,
     "metadata": {},
     "output_type": "execute_result"
    }
   ],
   "source": [
    "opt_xy, opt_obj"
   ]
  },
  {
   "cell_type": "markdown",
   "id": "97764b52-269c-4936-bfca-a3999cf636d3",
   "metadata": {},
   "source": [
    "Problems\n",
    "- Can you come up with a vectorized implementation?"
   ]
  }
 ],
 "metadata": {
  "kernelspec": {
   "display_name": "Python 3 (ipykernel)",
   "language": "python",
   "name": "python3"
  },
  "language_info": {
   "codemirror_mode": {
    "name": "ipython",
    "version": 3
   },
   "file_extension": ".py",
   "mimetype": "text/x-python",
   "name": "python",
   "nbconvert_exporter": "python",
   "pygments_lexer": "ipython3",
   "version": "3.10.14"
  }
 },
 "nbformat": 4,
 "nbformat_minor": 5
}
