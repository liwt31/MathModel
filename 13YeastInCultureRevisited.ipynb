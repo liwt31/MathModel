{
 "cells": [
  {
   "cell_type": "markdown",
   "id": "97543950-590c-44e4-a083-bc0026c5247d",
   "metadata": {},
   "source": [
    "# The Yeast in a Culture\n",
    "Linear Regression in logistic population growth model"
   ]
  },
  {
   "cell_type": "markdown",
   "id": "6df8ec23-66d6-4008-9ffa-6b4056c190fd",
   "metadata": {},
   "source": [
    "## The data"
   ]
  },
  {
   "cell_type": "code",
   "execution_count": 1,
   "id": "9992053b-bbe4-4944-baed-3ef40416987a",
   "metadata": {},
   "outputs": [],
   "source": [
    "import numpy as np\n",
    "from matplotlib import pyplot as plt\n",
    "plt.style.use(\"mm.mplstyle\")"
   ]
  },
  {
   "cell_type": "code",
   "execution_count": 2,
   "id": "3863cd5c-9592-4b03-8821-69deb6011525",
   "metadata": {},
   "outputs": [],
   "source": [
    "time = np.arange(19)"
   ]
  },
  {
   "cell_type": "code",
   "execution_count": 3,
   "id": "da0bcdd2-4125-44d4-86f6-664cea3f4503",
   "metadata": {},
   "outputs": [],
   "source": [
    "observed = np.array([9.6,\n",
    "18.3,\n",
    "29.0,\n",
    "47.2,\n",
    "71.1,\n",
    "119.1,\n",
    "174.6,\n",
    "257.3,\n",
    "350.7,\n",
    "441.0,\n",
    "513.3,\n",
    "559.7,\n",
    "594.8,\n",
    "629.4,\n",
    "640.8,\n",
    "651.1,\n",
    "655.9,\n",
    "659.6,\n",
    "661.8])"
   ]
  },
  {
   "cell_type": "markdown",
   "id": "4ecd3ddc-91b9-4b47-8eca-85145e93d176",
   "metadata": {},
   "source": [
    "## Ploting the data"
   ]
  },
  {
   "cell_type": "code",
   "execution_count": 4,
   "id": "4437f565-b1a4-4dd0-84bd-62155a0ce495",
   "metadata": {},
   "outputs": [
    {
     "data": {
      "image/png": "[encoded data removed]",
      "text/plain": [
       "<Figure size 400x300 with 1 Axes>"
      ]
     },
     "metadata": {},
     "output_type": "display_data"
    }
   ],
   "source": [
    "plt.plot(time, observed, marker=\"o\")\n",
    "plt.xlabel(\"Time (h)\")\n",
    "plt.ylabel(\"Yeat biomass\")\n",
    "plt.show()"
   ]
  },
  {
   "cell_type": "code",
   "execution_count": 5,
   "id": "b54bfe57-fee6-4bce-98d5-d67ebec80322",
   "metadata": {},
   "outputs": [],
   "source": [
    "M = 665\n",
    "P = observed"
   ]
  },
  {
   "cell_type": "code",
   "execution_count": 6,
   "id": "07065fee-f803-402a-844d-d71f4c9c7ad7",
   "metadata": {},
   "outputs": [
    {
     "data": {
      "image/png": "[encoded data removed]",
      "text/plain": [
       "<Figure size 400x300 with 1 Axes>"
      ]
     },
     "metadata": {},
     "output_type": "display_data"
    }
   ],
   "source": [
    "plt.scatter(time, np.log(P/(M-P)), marker=\"o\")\n",
    "plt.xlabel(\"Time (h)\")\n",
    "plt.ylabel(r\"${\\rm{ln}}\\frac{P}{M-P}$\")\n",
    "plt.show()"
   ]
  },
  {
   "cell_type": "markdown",
   "id": "f094e0ee-7c10-4d46-b57b-6b2b03d44ef4",
   "metadata": {},
   "source": [
    "## Linear least squares fit - standard"
   ]
  },
  {
   "cell_type": "code",
   "execution_count": 7,
   "id": "296ab243-d239-4c13-b531-9dfefce41971",
   "metadata": {},
   "outputs": [
    {
     "data": {
      "text/plain": [
       "(np.float64(0.5306746627219533), np.float64(-4.163572101473056))"
      ]
     },
     "execution_count": 7,
     "metadata": {},
     "output_type": "execute_result"
    }
   ],
   "source": [
    "# first try numpy polyfit\n",
    "slope, intercept = np.polyfit(time, np.log(P/(M-P)), deg=1)\n",
    "slope, intercept"
   ]
  },
  {
   "cell_type": "code",
   "execution_count": 8,
   "id": "e8d6ab09-04a3-4aef-a52f-ac3e438f8f5e",
   "metadata": {},
   "outputs": [],
   "source": [
    "# then scipy linear regression\n",
    "import scipy"
   ]
  },
  {
   "cell_type": "code",
   "execution_count": 9,
   "id": "19e9ea16-a57b-4cf0-aaad-78b87e977ce1",
   "metadata": {},
   "outputs": [
    {
     "data": {
      "text/plain": [
       "LinregressResult(slope=np.float64(0.5306746627219531), intercept=np.float64(-4.163572101473055), rvalue=np.float64(0.9998025122201444), pvalue=np.float64(2.2433224210480064e-30), stderr=np.float64(0.0025583109916853066), intercept_stderr=np.float64(0.02695347880051371))"
      ]
     },
     "execution_count": 9,
     "metadata": {},
     "output_type": "execute_result"
    }
   ],
   "source": [
    "scipy.stats.linregress(time, np.log(P/(M-P)))"
   ]
  },
  {
   "cell_type": "markdown",
   "id": "051ed4ea-bada-4783-97c6-2f7d0bd7312c",
   "metadata": {},
   "source": [
    "## Linear least squares fit - in house"
   ]
  },
  {
   "cell_type": "code",
   "execution_count": 10,
   "id": "ea4fecba-ed8c-4bc6-8777-3ce4b225c361",
   "metadata": {},
   "outputs": [],
   "source": [
    "# single variable linear regression approach\n",
    "x = time\n",
    "y = np.log(P/(M-P))\n",
    "m = len(time)"
   ]
  },
  {
   "cell_type": "code",
   "execution_count": 11,
   "id": "452355e1-ffb7-4761-a339-de9cdeed346d",
   "metadata": {},
   "outputs": [
    {
     "data": {
      "text/plain": [
       "np.float64(0.5306746627219532)"
      ]
     },
     "execution_count": 11,
     "metadata": {},
     "output_type": "execute_result"
    }
   ],
   "source": [
    "A = (m * x @ y - (x.reshape(-1, 1) * y.reshape(1, -1)).sum()) / (m * x @ x - (x.reshape(-1, 1) * x.reshape(1, -1)).sum())\n",
    "A"
   ]
  },
  {
   "cell_type": "code",
   "execution_count": 12,
   "id": "115c9a6d-2cef-4c64-835c-c50187d80151",
   "metadata": {},
   "outputs": [
    {
     "data": {
      "text/plain": [
       "np.float64(-4.163572101473057)"
      ]
     },
     "execution_count": 12,
     "metadata": {},
     "output_type": "execute_result"
    }
   ],
   "source": [
    "B = (y - A * x).sum() / m\n",
    "B"
   ]
  },
  {
   "cell_type": "code",
   "execution_count": 13,
   "id": "ff068012-42c8-454a-a175-620c544990ca",
   "metadata": {},
   "outputs": [
    {
     "data": {
      "text/plain": [
       "(19, 2)"
      ]
     },
     "execution_count": 13,
     "metadata": {},
     "output_type": "execute_result"
    }
   ],
   "source": [
    "# multi-variable linear regression approach\n",
    "X = np.array([x, np.ones(m)]).T\n",
    "X.shape"
   ]
  },
  {
   "cell_type": "code",
   "execution_count": 14,
   "id": "3af02a79-4dfe-4510-85ae-748a0cf5da38",
   "metadata": {},
   "outputs": [
    {
     "data": {
      "text/plain": [
       "array([ 0.53067466, -4.1635721 ])"
      ]
     },
     "execution_count": 14,
     "metadata": {},
     "output_type": "execute_result"
    }
   ],
   "source": [
    "np.linalg.inv(X.T @ X) @ (y @ X)"
   ]
  }
 ],
 "metadata": {
  "kernelspec": {
   "display_name": "Python 3 (ipykernel)",
   "language": "python",
   "name": "python3"
  },
  "language_info": {
   "codemirror_mode": {
    "name": "ipython",
    "version": 3
   },
   "file_extension": ".py",
   "mimetype": "text/x-python",
   "name": "python",
   "nbconvert_exporter": "python",
   "pygments_lexer": "ipython3",
   "version": "3.9.20"
  }
 },
 "nbformat": 4,
 "nbformat_minor": 5
}
